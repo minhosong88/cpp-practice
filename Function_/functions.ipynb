{
 "cells": [
  {
   "attachments": {},
   "cell_type": "markdown",
   "metadata": {},
   "source": [
    "### Function Prototype\n",
    "\n",
    "- The compiler must know about a function before it is used\n",
    "- function prototype (forward declaration)\n",
    "```cpp\n",
    "int function_name(); //prototype\n",
    "\n",
    "//later define the function\n",
    "int function_name(){\n",
    "  statements;\n",
    "  return;\n",
    "}\n",
    "\n",
    "int function_name(type ); // type of argument can be provided in the prototype\n",
    "\n",
    "```\n",
    "\n"
   ]
  },
  {
   "attachments": {},
   "cell_type": "markdown",
   "metadata": {},
   "source": [
    "### Formal/Actual parameters\n",
    "- actual parameters: used in the function call\n",
    "- formal parameters: defined in the function header"
   ]
  },
  {
   "attachments": {},
   "cell_type": "markdown",
   "metadata": {},
   "source": [
    "### Default argument values\n",
    "-  best practice: in prototype function"
   ]
  },
  {
   "attachments": {},
   "cell_type": "markdown",
   "metadata": {},
   "source": [
    "### Passing arrays\n",
    "- need to pass in the size\n",
    "- passing location of the array : not copy of the value\n",
    "- modifying the array is possible\n",
    "## Passing by reference\n",
    "- any data type can be passed by reference and modified\n",
    "- \"&\" in the formal argument: reference the location and modify the value\n",
    "```cpp\n",
    "void scale_number(int &num);\n",
    "void scale_number(int &num){\n",
    "  if(num > 100)\n",
    "    num = 100;\n",
    "}\n",
    "int main() {\n",
    "  int number = 10000;\n",
    "  scale_number(number);\n",
    "  cout << number << endl; // output: 100\n",
    "  return 0;\n",
    "}\n",
    "```"
   ]
  },
  {
   "attachments": {},
   "cell_type": "markdown",
   "metadata": {},
   "source": [
    "### Scope rules\n",
    "- local or block scope {}\n",
    "- static local variable: preserved between function calls\n",
    "- global scope: declared outside any function or class: avoided\n",
    "\n"
   ]
  },
  {
   "attachments": {},
   "cell_type": "markdown",
   "metadata": {},
   "source": [
    "### How do Function calls work?\n",
    "- function call stak : LIFO, push and pop\n",
    "- stack size is finite - stack overflow\n",
    "\n"
   ]
  },
  {
   "attachments": {},
   "cell_type": "markdown",
   "metadata": {},
   "source": [
    "### Recursive function\n",
    "- a function that calls itself\n",
    "- factorial, fibonacci, fractals\n",
    "- binary search, search trees etc."
   ]
  }
 ],
 "metadata": {
  "language_info": {
   "name": "python"
  },
  "orig_nbformat": 4
 },
 "nbformat": 4,
 "nbformat_minor": 2
}
