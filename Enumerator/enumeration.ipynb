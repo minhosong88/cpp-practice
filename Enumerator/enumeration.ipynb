{
 "cells": [
  {
   "attachments": {},
   "cell_type": "markdown",
   "metadata": {},
   "source": [
    "### Enumerated type\n",
    "- Improves readability\n",
    "- Improve algorithm correctness\n",
    "\n",
    "```cpp\n",
    "enum State{Engine_Failure = 0, Inclement_Weather = 1, Nominal = 2};\n",
    "enum Sequence{ Abort =3, Hold =4, Launch =5};\n",
    "\n",
    "int user_input;\n",
    "std::cin >> user_input;\n",
    "State state = State(user_input);\n",
    "\n",
    "if (state == Engine_Failure)\n",
    "  initiate(Abort);\n",
    "else if (state == Inclement_Weather)\n",
    "  initiate(Hold);\n",
    "else if (state == Nominal)\n",
    "  initiate(Launch);\n",
    "\n",
    "```"
   ]
  },
  {
   "attachments": {},
   "cell_type": "markdown",
   "metadata": {},
   "source": [
    "### Structure\n",
    "```plaintext\n",
    "enum-key enum-name: enumerator-type { };\n",
    "```\n",
    "- enum key: score of the enumeration\n",
    "- enum name: optional name\n",
    "- type: can be omitted and the complier will try to deduce it\n",
    "- {}: enumerator list\n",
    "\n",
    "- Example\n",
    "```cpp\n",
    "enum {Red, Green, Blue}; // implicit initialization 0, 1, 2\n",
    "enum {Red = 1, Green = 2, Blue = 3} // Explicit initialization\n",
    "```\n",
    "- Nameless Enumeration : no type safety\n",
    "- Enumeration Name becomes the type safe"
   ]
  },
  {
   "attachments": {},
   "cell_type": "markdown",
   "metadata": {},
   "source": [
    "### Unscoped Enumerations\n",
    "- "
   ]
  },
  {
   "attachments": {},
   "cell_type": "markdown",
   "metadata": {},
   "source": [
    "### Scoped Enumerator\n",
    "```plaintext\n",
    "enum class enum-name : enumerator-type { };\n",
    "```\n",
    "- Issue with unscoped enumeration\n",
    "```cpp\n",
    "enum Whale {Blue, Beluga, Gray};\n",
    "\n",
    "enum Shark {Greatwhile, Hammerhead, Bull};\n",
    "if(Beluga == Hammerhead)\n",
    "  std::cout << \"A beluga whale is equivalent to a hammerhead shark\";\n",
    "```\n",
    "  - due to the same underlying value assigned to those, they are mistakenly treated the same.\n",
    "- Scoped Enumerator is not automatically convertible\n"
   ]
  }
 ],
 "metadata": {
  "language_info": {
   "name": "python"
  },
  "orig_nbformat": 4
 },
 "nbformat": 4,
 "nbformat_minor": 2
}
