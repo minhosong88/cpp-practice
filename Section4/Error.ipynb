{
 "cells": [
  {
   "attachments": {},
   "cell_type": "markdown",
   "metadata": {},
   "source": [
    "### Compile Errors\n",
    " - Syntax Errors: structural errors\n",
    "    - example: no semi-colon at the end\n",
    " - Semantic Errors: something wrong with the meaning\n",
    "    - example: a + b; when 'a' is a string and 'b' is an integer, then adding them does not make sense.\n",
    "\n"
   ]
  },
  {
   "attachments": {},
   "cell_type": "markdown",
   "metadata": {},
   "source": [
    "### Complie Warning\n",
    "  - Complier recognize an issue with potential problems\n",
    "  - still create .obj files but there could be a problem"
   ]
  },
  {
   "attachments": {},
   "cell_type": "markdown",
   "metadata": {},
   "source": [
    "### Linker Errors\n",
    " - Trouble linking all the objects files together to create .exe\n",
    " - missing object files or library"
   ]
  },
  {
   "attachments": {},
   "cell_type": "markdown",
   "metadata": {},
   "source": [
    "### Runtime Errors\n",
    "- Error associated with program execution\n",
    "- Typically, 'divide by zero', 'file not found', 'out of memory'\n",
    "- cause `Crash`\n",
    "- Exception hangling can help deal with runtime error\n"
   ]
  },
  {
   "attachments": {},
   "cell_type": "markdown",
   "metadata": {},
   "source": [
    "### Logic Errors\n",
    " - Defect in your code\n",
    " - Made by programmers\n",
    " "
   ]
  },
  {
   "attachments": {},
   "cell_type": "markdown",
   "metadata": {},
   "source": [
    "### Section Challenge\n",
    " - ask the user for their fav num between 1 and 100, then read the number from the console\n",
    " - display the following to the condole:\n",
    "  - \" Amazing!! That's my favorite number, too!<br>\n",
    "   No really!!, 'fav_num' is my favorite number!\"\n",
    "\n"
   ]
  }
 ],
 "metadata": {
  "language_info": {
   "name": "python"
  },
  "orig_nbformat": 4
 },
 "nbformat": 4,
 "nbformat_minor": 2
}
