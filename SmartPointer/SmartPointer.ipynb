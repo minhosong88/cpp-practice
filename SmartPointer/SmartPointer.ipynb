{
 "cells": [
  {
   "attachments": {},
   "cell_type": "markdown",
   "metadata": {},
   "source": [
    "### Smart Pointer\n",
    "- an object\n",
    "- only point to heap-allocated memory\n",
    "- automatically deleted when no longer needed\n",
    "- unique-pointer, shared-pointer, weak-pointer\n",
    "```cpp\n",
    "#include <memory>\n",
    "```\n",
    "\n",
    "### RAII(Resouce Acquisition is Initialization)\n",
    "- Object lifetime\n",
    "- RAII objects are allocated on the stack\n",
    "- Resource Acquisition\n",
    "  - open files, allocate memories, acquire locks\n",
    "- Is Initialization\n",
    "  - resource is acquired in a constructor \n",
    "- Resource relinquishing\n",
    "  - destructor: close files, deallocate memories, release locks"
   ]
  },
  {
   "attachments": {},
   "cell_type": "markdown",
   "metadata": {},
   "source": [
    "### Unique Pointer\n",
    "- simple and efficient\n",
    "- there can only be one unique pointer\n",
    "- cannot assigned or copied\n",
    "- can be moved\n"
   ]
  },
  {
   "attachments": {},
   "cell_type": "markdown",
   "metadata": {},
   "source": [
    "### Shared Pointers\n",
    "- Shared ownership of heap object\n",
    "- one heap object referenced by multiple shared pointers\n",
    "- can be assigned and copied\n",
    "- increment count when a reference is added to the pointer\n",
    "- once count becomes zero, destroyed\n"
   ]
  },
  {
   "attachments": {},
   "cell_type": "markdown",
   "metadata": {},
   "source": [
    "### Weak Pointer\n",
    "- Non-owning weak reference\n",
    "- Always created from shared_ptr\n",
    "- Don't increment reference use count\n",
    "- cyclic reference\n",
    "  - A refer to B\n",
    "  - B refer to A\n",
    "  - weak pointer solves this problem by not giving ownership\n",
    "  "
   ]
  },
  {
   "attachments": {},
   "cell_type": "markdown",
   "metadata": {},
   "source": [
    "### Custom Deleter\n",
    "- Special use-cases\n",
    "- Providing deleter function\n",
    "\n"
   ]
  }
 ],
 "metadata": {
  "language_info": {
   "name": "python"
  },
  "orig_nbformat": 4
 },
 "nbformat": 4,
 "nbformat_minor": 2
}
