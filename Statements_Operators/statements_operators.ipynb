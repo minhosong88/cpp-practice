{
 "cells": [
  {
   "attachments": {},
   "cell_type": "markdown",
   "metadata": {},
   "source": [
    "### Expressions\n",
    "- Computes a value from a number of operands\n",
    "- literal, variable, addition, multiplication, relational, assignment\n"
   ]
  },
  {
   "attachments": {},
   "cell_type": "markdown",
   "metadata": {},
   "source": [
    "### Statements\n",
    "- A complete line of code that performs some action\n",
    "- end with a semi-colon\n",
    "- delcaration, assignment, expression, conditional\n"
   ]
  },
  {
   "attachments": {},
   "cell_type": "markdown",
   "metadata": {},
   "source": [
    "### Operators\n",
    "- unary, binary, ternary\n",
    "- assignment, arithmetic, increment/decrement, relational, logical, member access, other\n"
   ]
  },
  {
   "attachments": {},
   "cell_type": "markdown",
   "metadata": {},
   "source": [
    "### Mixed Type Expression\n",
    "- Automatically convert types(coercion)\n",
    "- affect calculation results\n",
    "- Conversion\n",
    " - higher vs. lower type\n",
    " - long double, double, float, unsigned long, long, unsigned int, int // short, char converted to int\n",
    " - Type Coercion: conversion of one operand to another data type\n",
    "\n",
    " - lower operator higher: lower is promoted to higher\n",
    " - lower = higher(assignment): higher is demoted to lower\n"
   ]
  },
  {
   "attachments": {},
   "cell_type": "markdown",
   "metadata": {},
   "source": [
    "### Equality Operator\n",
    "- \"==\" or \"!=\"\n",
    "- Evaluates to boolean"
   ]
  },
  {
   "attachments": {},
   "cell_type": "markdown",
   "metadata": {},
   "source": [
    "### Logical Operators\n",
    "- not : !\n",
    "- and : &&\n",
    "- or : ||\n",
    "- Precedence: not > and > or\n"
   ]
  },
  {
   "attachments": {},
   "cell_type": "markdown",
   "metadata": {},
   "source": [
    "### Compund Assignment\n",
    "\n",
    "- +=, -=, *=, /=, %=\n"
   ]
  }
 ],
 "metadata": {
  "language_info": {
   "name": "python"
  },
  "orig_nbformat": 4
 },
 "nbformat": 4,
 "nbformat_minor": 2
}
