{
 "cells": [
  {
   "attachments": {},
   "cell_type": "markdown",
   "metadata": {},
   "source": [
    "### Polymorphism\n",
    "- Compile time polymorphism\n",
    "  - Overloaded functions\n",
    "  - Overloaded operators\n",
    "- Runtime Polymorphism\n",
    "  - Function Overriding\n",
    "\n",
    "\n",
    "### Base Class Pointer\n",
    "- For dynamic polymorphism\n",
    "\n",
    "### Virtual Functions\n",
    "- redefined functions are bound statically\n",
    "- overriden functions are bound dynamically\n",
    "- virtual functions are overriden\n",
    "- treal all objects generally as objects of the Base class\n",
    "\n",
    "- Declare the functions you want to override as virtual in the Base class\n",
    "- Virtual functions are dynamicaly bound only when we call them `via a base class poiter or reference`\n",
    "\n",
    "### Virtual Destructor\n",
    "- Problem can happen when we destroy polymorphic objects\n",
    "- Use virtual Destructor when virtual functions in a class\n",
    "- Make the Destructor virtual"
   ]
  },
  {
   "attachments": {},
   "cell_type": "markdown",
   "metadata": {},
   "source": [
    "### Override specifier\n",
    "- the function signature and return must be exactly the same for overriding\n",
    "- C++ 11 provides an override specifier to have the compiler ensure override\n",
    "```cpp\n",
    "//Base\n",
    "  virtual void say_hello() const;\n",
    "//Derived\n",
    "  virtual void say_hello();\n",
    "// This stops overriding \n",
    "```"
   ]
  },
  {
   "attachments": {},
   "cell_type": "markdown",
   "metadata": {},
   "source": [
    "### Final Specifier\n",
    "- prevent class from being derived from\n",
    "- prevent firtual function from being overridden"
   ]
  },
  {
   "attachments": {},
   "cell_type": "markdown",
   "metadata": {},
   "source": [
    "### Base Class Reference\n",
    "- Base Class reference with dynamic polymorphism\n",
    "- Useful when passing obj to functions that expect a Base class reference\n",
    "```cpp\n",
    "Account a;  \n",
    "Account &ref = a;\n",
    "ref.withdraw(1000); // Account::withdraw\n",
    "```"
   ]
  },
  {
   "attachments": {},
   "cell_type": "markdown",
   "metadata": {},
   "source": [
    "### Pure virtual function\n",
    "- Abstract class : cannot instantiate\n",
    "- Concrete class : normal class\n",
    "- Pure virtual function\n",
    "```cpp\n",
    "virtual void functions() =0;\n",
    "```\n",
    "  - must be overridden in derived classes"
   ]
  },
  {
   "attachments": {},
   "cell_type": "markdown",
   "metadata": {},
   "source": [
    "### Interface\n",
    "- An abstract class that has only pure virtual functions\n",
    "- Provided as public\n",
    "- C++ does not provide true interfaces\n"
   ]
  }
 ],
 "metadata": {
  "language_info": {
   "name": "python"
  },
  "orig_nbformat": 4
 },
 "nbformat": 4,
 "nbformat_minor": 2
}
