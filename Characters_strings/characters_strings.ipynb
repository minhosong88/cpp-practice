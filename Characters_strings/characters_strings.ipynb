{
 "cells": [
  {
   "attachments": {},
   "cell_type": "markdown",
   "metadata": {},
   "source": [
    "### Character functions\n",
    "- functions for testing characters\n",
    "- functions for converting character case\n",
    "- `Testing characters`: isalpha, isalnum, isdigit, islower, isprint, ispunct, isupper, isspace(c)\n",
    "- `Conversion` : tolower, toupper(c)\n"
   ]
  },
  {
   "attachments": {},
   "cell_type": "markdown",
   "metadata": {},
   "source": [
    "### C-style strings\n",
    "- null : equal to 0\n",
    "- sequence of characters\n",
    "- string literal: \" \"\n",
    "- terminated with null character\n",
    "```plain text\n",
    "\"Frank\" => F, r, a, n, k \\0(null character)\n",
    "```\n",
    "```cpp\n",
    "#include <cstring>\n",
    "char my_name[8];\n",
    "my_name = \"Frank\"; //Error\n",
    "strcpy(my_name, \"Frank\"); //Okay\n",
    "``` "
   ]
  },
  {
   "attachments": {},
   "cell_type": "markdown",
   "metadata": {},
   "source": [
    "### C++ Strings\n",
    "```cpp\n",
    "#include <string>\n",
    "```\n",
    "- dynamic size\n",
    "- safer\n",
    "- work with operators(+,=,<,>, [] ,...)\n",
    "- always initialized with empty string without initialization\n",
    "```cpp\n",
    "#include <string>\n",
    "using namespace std;\n",
    "string s1; //empty\n",
    "string s2 {\"Minho\"}; // Minho\n",
    "string s3 {s2}; // Minho\n",
    "string s4 {\"Minho\", 3}; // Min\n",
    "string s5 {s3, 0, 2}; // Mi\n",
    "string s6 (3, 'X'); // XXX \n",
    "```\n",
    "- Methods\n",
    "  -`substr(start_idx, length)` : extract a substring from a std::string\n",
    "\n",
    "  - `find(search_string)` : return starting index of the search string\n",
    "  - length() : return size of the string\n",
    "\n",
    "- `getline` function\n",
    "  - getline(cin, s1); // read until \\n\n",
    "  - getline(cin, s1, 'x') // read until you see the third argument\n",
    "\n"
   ]
  },
  {
   "cell_type": "markdown",
   "metadata": {},
   "source": []
  }
 ],
 "metadata": {
  "language_info": {
   "name": "python"
  },
  "orig_nbformat": 4
 },
 "nbformat": 4,
 "nbformat_minor": 2
}
