{
 "cells": [
  {
   "attachments": {},
   "cell_type": "markdown",
   "metadata": {},
   "source": [
    "### Inheritance\n",
    "- creating a new class from existing classes\n",
    "- reuse of existing classes\n",
    "- without modifying the original class, modify the behavior\n",
    "\n",
    "### Terminology\n",
    "- Inheritance > single inheritance(from one class) > multiple inheritance(from multiple classes)\n",
    "- `Is-A` relationship: sub-type of base classes\n",
    "- `Generaliztion` : more general and abstract class, `Specialization`: more specific, lower in herarchy.\n",
    "- `Has-A` relationship: Composition/no inheritance.\n",
    "  - relationship between classes\n",
    "  - a class member is declared in another class  as a member\n",
    "\n",
    "- Depending on design.\n"
   ]
  },
  {
   "attachments": {},
   "cell_type": "markdown",
   "metadata": {},
   "source": [
    "## Types of inheritance\n",
    "- public, private, protected\n",
    "- Usually public for other languages\n",
    "\n",
    "\n"
   ]
  },
  {
   "attachments": {},
   "cell_type": "markdown",
   "metadata": {},
   "source": [
    "### Protected members and class access\n",
    "- protected members:\n",
    "  - accessible from base and derived class from base\n",
    "  - **Not accessible by objects of them**\n",
    "### Accessibility of Base Class Members in Derived Class\n",
    "\n",
    "| Member Type in Base | Derived Class Access  | Notes                                 |\n",
    "|---------------------|-----------------------|---------------------------------------|\n",
    "| `private` (`a`)     | **No Access**         | `private` members are not accessible in the derived class. |\n",
    "| `protected` (`b`)   | **Accessible**        | `protected` members are accessible in the derived class.   |\n",
    "| `public` (`c`)      | **Accessible**        | `public` members are accessible in the derived class.      |\n",
    "\n",
    "```cpp\n",
    "class Base {\n",
    "private:\n",
    "    int a; // Private: Not accessible in Derived\n",
    "protected:\n",
    "    int b; // Protected: Accessible in Derived\n",
    "public:\n",
    "    int c; // Public: Accessible in Derived\n",
    "};\n",
    "\n",
    "class Derived : public Base {\n",
    "public:\n",
    "    void accessMembers() {\n",
    "        // a = 10; // Error: 'a' is private in Base\n",
    "        b = 20;    // OK: 'b' is protected\n",
    "        c = 30;    // OK: 'c' is public\n",
    "    }\n",
    "};\n",
    "```\n",
    "---\n",
    "\n"
   ]
  },
  {
   "attachments": {},
   "cell_type": "markdown",
   "metadata": {},
   "source": [
    "### Protected inheritance\n",
    "```cpp\n",
    "class Base {\n",
    "public:\n",
    "    int x;      // Public\n",
    "protected:\n",
    "    int y;      // Protected\n",
    "private:\n",
    "    int z;      // Private\n",
    "};\n",
    "\n",
    "class Derived : protected Base {\n",
    "    void accessBase() {\n",
    "        x = 10; // Accessible as protected\n",
    "        y = 20; // Accessible as protected\n",
    "        // z = 30; // Error: Not accessible\n",
    "    }\n",
    "\n",
    "};\n",
    "```\n",
    "- \"Accessible as protected\" means the derived class and further derived classes can access the member, but it is hidden from outside the class hierarchy.\n",
    "---"
   ]
  },
  {
   "attachments": {},
   "cell_type": "markdown",
   "metadata": {},
   "source": [
    "### Private inheritance\n",
    "```cpp\n",
    "class Base {\n",
    "public:\n",
    "    int x;      // Public\n",
    "protected:\n",
    "    int y;      // Protected\n",
    "private:\n",
    "    int z;      // Private\n",
    "};\n",
    "\n",
    "class Derived : private Base {\n",
    "    void accessBase() {\n",
    "        x = 10; // Accessible as private\n",
    "        y = 20; // Accessible as private\n",
    "        // z = 30; // Error: Not accessible\n",
    "    }\n",
    "};\n",
    "```\n",
    "- \"Accessible as private\" means the derived class can access the member, but further derived classes and external code cannot. The member is hidden outside the derived class."
   ]
  },
  {
   "attachments": {},
   "cell_type": "markdown",
   "metadata": {},
   "source": [
    "### Things to remember\n",
    "- Not Accessible does not mean that the members are not there.\n",
    "- They inherent everything from parent classes and just not accessible."
   ]
  },
  {
   "attachments": {},
   "cell_type": "markdown",
   "metadata": {},
   "source": [
    "### Constructors and Destructors\n",
    "- When Derived object is created, base class constructor executes then Derived class constructor executes\n",
    "- When Derived object is destroyed, Derived class constructor destroys then base class constructor destroys\n",
    "\n",
    "- Derived class not inherit\n",
    "  - base constructor, destructor\n",
    "  - base overloaded assignment operators\n",
    "  - base friend functions\n",
    "\n"
   ]
  },
  {
   "attachments": {},
   "cell_type": "markdown",
   "metadata": {},
   "source": [
    "### Copy/Move Constructor and Assignment with inheritance\n",
    "- If you don't define them in Derived, then automatically call the base class's version\n",
    "- If you don, you MUST invoke the Base versions explicitly.\n",
    "-"
   ]
  }
 ],
 "metadata": {
  "language_info": {
   "name": "python"
  },
  "orig_nbformat": 4
 },
 "nbformat": 4,
 "nbformat_minor": 2
}
