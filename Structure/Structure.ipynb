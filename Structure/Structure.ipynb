{
 "cells": [
  {
   "attachments": {},
   "cell_type": "markdown",
   "metadata": {},
   "source": [
    "### Keywords\n",
    "- vocabularies in a language\n",
    "- https://en.cppreference.com/w/cpp/keyword\n",
    "- 90 keywords in C++\n",
    "- no need to memorize them all\n",
    "- int/return have been used before\n",
    "- different from identifiers"
   ]
  },
  {
   "attachments": {},
   "cell_type": "markdown",
   "metadata": {},
   "source": [
    "### Preprocessor\n",
    "- program that process the source code before complier sees it.\n",
    "-  start with #\n",
    "- '# include '<'iostream'>'\n",
    "- preprocessor does not understand C++, it is complier that understand C++.\n"
   ]
  },
  {
   "attachments": {},
   "cell_type": "markdown",
   "metadata": {},
   "source": [
    "### Comments\n",
    "- programmer readable explanation in the source code. ( preprocessor strip it off )\n",
    "- Comments never make it to complier.\n",
    "- single line comment: begin with '//'\n",
    "- multi-line comment: '/* multi-line comments */'\n",
    "- Don't do version control with comments"
   ]
  },
  {
   "attachments": {},
   "cell_type": "markdown",
   "metadata": {},
   "source": [
    "### Main() Function\n",
    "- Every C++ must have 1 main() function\n",
    "- starting point of program execution\n",
    "- return 0 indicate successful execution\n",
    "- 2 versions (one without arguments, one with arguments-arg count(int argc), char *argv[] )\n"
   ]
  },
  {
   "attachments": {},
   "cell_type": "markdown",
   "metadata": {},
   "source": [
    "### NameSpaces\n",
    "- naming conflicts possible among different libraries with the same name.\n",
    "- std:: C++ standard\n",
    "- '::' : scope resolution operator\n",
    "- use namespace directive\n",
    "```cpp\n",
    "using namespace std;// use the entire std namespace\n",
    "```\n",
    "- qualified using namespace variant\n",
    "```cpp\n",
    "//use only what you need with 'using'\n",
    "using std::cout;\n",
    "using std::cin;\n",
    "using std::endl;\n",
    "```\n"
   ]
  },
  {
   "attachments": {},
   "cell_type": "markdown",
   "metadata": {},
   "source": [
    "### Basic I/O with `cin` and `cout`\n",
    "- cout, cin, cerr, clog : objects representing streams\n",
    "- cout: standard output stream\n",
    "- cin: standard input stream\n",
    "- << :  insertion operator (output stream)\n",
    "- '>>' : extraction operatior (input stream)\n",
    "```cpp\n",
    "cout << data; // insert data into cout stream\n",
    "```\n",
    "- no automatic line break so explicitly add line breaks (flush)\n",
    "\n",
    "```cpp\n",
    "cin >> data; // extract from cin stream \n",
    "```\n",
    "- from keyboard\n",
    "- can fail if entered data cannot be interpreted(undetermined value)\n"
   ]
  },
  {
   "attachments": {},
   "cell_type": "markdown",
   "metadata": {},
   "source": [
    "#### Something to remember\n",
    "```cpp\n",
    "  int num1;\n",
    "  int num2;\n",
    "  cout << \"Enter a first integer: \";\n",
    "  cin >> num1;\n",
    "  cout << \"Enter a second integer: \";\n",
    "  cin >> num2;\n",
    "  cout << \"You entered \" << num1 << \" and \" << num2 << endl;\n",
    "```\n",
    "- if you enter \"123 234' at the first cin object, the program reads both integers at the same time and fill out the num2.\n",
    "- this is because when you enter \"123 234\", the two values are saved in the buffer separately\n",
    "- so the results will show correctly\n",
    "\n",
    "```cpp\n",
    "  cout << \"Enter an integer: \";\n",
    "  cin >> num1;\n",
    "  cout << \"Enter a double: \";\n",
    "  cin >> num3;\n",
    "  cout << \"The integer is \" << num1 << endl;\n",
    "  cout << \"And the double is \" << num3 << endl;\n",
    "```\n",
    "- if you enter 10.5 in the first cin, then the return will be \"The integer is 10\" and \"And the double is 0.5\"\n",
    "- This is due to how C++ behaves."
   ]
  }
 ],
 "metadata": {
  "language_info": {
   "name": "python"
  },
  "orig_nbformat": 4
 },
 "nbformat": 4,
 "nbformat_minor": 2
}
