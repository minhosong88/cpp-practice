{
 "cells": [
  {
   "attachments": {},
   "cell_type": "markdown",
   "metadata": {},
   "source": [
    "### Sequence"
   ]
  },
  {
   "attachments": {},
   "cell_type": "markdown",
   "metadata": {},
   "source": [
    "### Selection\n",
    "- if statement\n",
    "- if-else statement\n",
    "- nested if statement\n",
    "- switch statement\n",
    "- conditional operator ?:"
   ]
  },
  {
   "attachments": {},
   "cell_type": "markdown",
   "metadata": {},
   "source": [
    "#### `if` statement\n",
    "- syntax\n",
    "  - if (expression) statement;( indentation recommended)\n",
    "  - block statement \n",
    "  ```cpp\n",
    "  {\n",
    "    //variable declarations\n",
    "    statement1;\n",
    "    statement2;\n",
    "  }\n",
    "  ```\n",
    "#### `switch` statement\n",
    "- syntax\n",
    "  - switch (expression) { <br>\n",
    "    case expression1: statement1; break;<br>\n",
    "    case expression2: statement2; break;<br>\n",
    "    case expression3: statement3; break;<br>\n",
    "    default: statement_default;\n",
    "    <br>}\n",
    "  - Best practice to include break statement at every case statement\n",
    "- evaluate to integer type\n",
    "- constant expressions that evaluate to integer"
   ]
  },
  {
   "attachments": {},
   "cell_type": "markdown",
   "metadata": {},
   "source": [
    "### Iteration\n",
    "- for loop\n",
    "- while loop\n",
    "- do-while loop\n",
    "- continue and break\n",
    "- nested loops\n",
    "- infinite loops"
   ]
  },
  {
   "attachments": {},
   "cell_type": "markdown",
   "metadata": {},
   "source": [
    "#### Range-based *for* loop\n",
    "- Introduced in C++11\n",
    "- syntax\n",
    "  - for (type name: sequence) {<br>\n",
    "    statements;<br>\n",
    "  }\n",
    "  - it looks like \"for i in array\" in python\n",
    "  - you can use 'auto' for type."
   ]
  },
  {
   "attachments": {},
   "cell_type": "markdown",
   "metadata": {},
   "source": [
    "#### DO-While\n",
    "- guarantees at least one time execution of the do portion."
   ]
  }
 ],
 "metadata": {
  "language_info": {
   "name": "python"
  },
  "orig_nbformat": 4
 },
 "nbformat": 4,
 "nbformat_minor": 2
}
