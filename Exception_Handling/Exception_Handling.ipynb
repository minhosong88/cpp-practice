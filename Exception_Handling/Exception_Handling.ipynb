{
 "cells": [
  {
   "attachments": {},
   "cell_type": "markdown",
   "metadata": {},
   "source": [
    "### Exception Handling\n",
    "- synchronous code\n",
    "- extraordinary situation detection and handling\n",
    "- Causes:\n",
    "  - insufficient resources or missing resources\n",
    "  - invalid operations\n",
    "  - range violations\n",
    "  - illegal data\n",
    "\n",
    "  "
   ]
  },
  {
   "attachments": {},
   "cell_type": "markdown",
   "metadata": {},
   "source": [
    "### Stack Unwinding\n",
    "- function doesn't handle its own exception, c++ unwinde the stack and remove the function from the call stack.\n",
    "- Exception handling changes the normal flow control\n",
    "- Best practice:\n",
    "  - throw an object not a primitive type\n",
    "  - throw an object by value\n",
    "  - catch an object by reference(or const reference)"
   ]
  },
  {
   "attachments": {},
   "cell_type": "markdown",
   "metadata": {},
   "source": [
    "### Class-level Exception\n",
    "- Throw an exception in the constructor\n",
    "- Do Not throw an exception in the destructor\n",
    "  - if destructor is called as a result of an exception being thrown elsewhere, then the destructor throws exception, the original catch block will never be reached."
   ]
  },
  {
   "attachments": {},
   "cell_type": "markdown",
   "metadata": {},
   "source": [
    "### Standard Exception Hierarchy\n",
    "- `noexcept` keyword : do not throw an exception"
   ]
  }
 ],
 "metadata": {
  "language_info": {
   "name": "python"
  },
  "orig_nbformat": 4
 },
 "nbformat": 4,
 "nbformat_minor": 2
}
