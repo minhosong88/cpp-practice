{
 "cells": [
  {
   "attachments": {},
   "cell_type": "markdown",
   "metadata": {},
   "source": [
    "### I/O Stream\n",
    "- Stream interface\n",
    "- independent of the actual device\n",
    "- sequence of bytes\n",
    "- header files with #include : `iostream`(io), `fstream`(file), `iomanip`(manipulator)\n",
    "\n",
    "- classes\n",
    "  - ios, ifstream, ofstream, fstream, stringstream\n",
    "\n",
    "- global stream objects(initialized before main executes)\n",
    "  - cin\n",
    "  - cout\n",
    "  - cerr(for errors)\n",
    "  - clog(for log)"
   ]
  },
  {
   "attachments": {},
   "cell_type": "markdown",
   "metadata": {},
   "source": [
    "### IO Maniulators\n",
    "- usefule formatting\n",
    "- method version/manipulator version\n",
    "# Stream Manipulators in C++\n",
    "\n",
    "| **Category**                  | **Manipulator**      | **Description**                                                                                     |\n",
    "|-------------------------------|----------------------|-----------------------------------------------------------------------------------------------------|\n",
    "| **Boolean**                   | `boolalpha`          | Outputs boolean values as `true` or `false`.                                                       |\n",
    "|                               | `noboolalpha`        | Outputs boolean values as `1` or `0` (default behavior).                                            |\n",
    "| **Integer**                   | `dec`               | Outputs integers in decimal (base 10) format.                                                      |\n",
    "|                               | `hex`               | Outputs integers in hexadecimal (base 16) format.                                                  |\n",
    "|                               | `oct`               | Outputs integers in octal (base 8) format.                                                         |\n",
    "|                               | `showbase`          | Displays the base prefix (`0x` for hex, `0` for octal) for integer values.                          |\n",
    "|                               | `noshowbase`        | Hides the base prefix for integers (default behavior).                                              |\n",
    "|                               | `showpos`           | Displays a `+` sign for positive integers.                                                         |\n",
    "|                               | `noshowpos`         | Hides the `+` sign for positive integers (default behavior).                                        |\n",
    "|                               | `uppercase`         | Displays hexadecimal letters in uppercase (`A`-`F`).                                               |\n",
    "|                               | `nouppercase`       | Displays hexadecimal letters in lowercase (`a`-`f`) (default behavior).                            |\n",
    "| **Floating Point**            | `fixed`             | Displays floating-point numbers in fixed-point notation.                                            |\n",
    "|                               | `scientific`        | Displays floating-point numbers in scientific notation.                                             |\n",
    "|                               | `setprecision(n)`   | Sets the number of digits displayed after the decimal point.                                        |\n",
    "|                               | `showpoint`         | Forces display of the decimal point and trailing zeros.                                             |\n",
    "|                               | `noshowpoint`       | Hides unnecessary decimal points and trailing zeros (default behavior).                             |\n",
    "|                               | `showpos`           | Displays a `+` sign for positive floating-point values.                                             |\n",
    "|                               | `noshowpos`         | Hides the `+` sign for positive floating-point values (default behavior).                           |\n",
    "| **Field Width, Justification, and Fill** | `setw(n)`      | Sets the minimum field width for the next output.                                                   |\n",
    "|                               | `left`             | Left-justifies the output within the specified field width.                                         |\n",
    "|                               | `right`            | Right-justifies the output within the specified field width (default behavior).                     |\n",
    "|                               | `internal`         | Aligns the sign (`+`/`-`) to the left and the numeric value to the right within the field.           |\n",
    "|                               | `setfill(c)`       | Sets the fill character (`c`) for padding the field width.                                          |\n",
    "| **Others**                    | `endl`             | Inserts a newline character and flushes the output stream.                                          |\n",
    "|                               | `flush`            | Flushes the output stream without adding a newline.                                                |\n",
    "|                               | `skipws`           | Ignores leading whitespace when reading input (default behavior).                                   |\n",
    "|                               | `noskipws`         | Does not ignore leading whitespace when reading input.                                              |\n",
    "|                               | `ws`               | Skips leading whitespace characters for the next input operation.                                   |\n"
   ]
  },
  {
   "attachments": {},
   "cell_type": "markdown",
   "metadata": {},
   "source": [
    "### Read files\n",
    "- use `fstream` or `ifstream`\n",
    "```cpp\n",
    "#include <fstream>\n",
    "std::string line;\n",
    "\n",
    "in_file.open(\"test.txt\");\n",
    "if (!in_file)\n",
    "{\n",
    "    std::cerr << \"Problem opening file\" << std::endl;\n",
    "    return 1;\n",
    "}\n",
    "in_file >> line; \n",
    "```\n",
    "- Read Line by Line\n",
    "```cpp\n",
    "while (std::getline(in_file, line))\n",
    "{\n",
    "    std::cout << line << std::endl;\n",
    "}\n",
    "```\n",
    "- When reading string by string, best practice is:\n",
    "```cpp\n",
    "string word;\n",
    "int count{0}\n",
    "while (in_file >> word) \n",
    "// this read string by string and when the next string doesn't exist, it returns false and out of loop\n",
    "{\n",
    "    ++count;\n",
    "}\n",
    "```\n",
    "- DO NOT FORGET TO CLOSE\n",
    "```cpp\n",
    "in_file.close();\n",
    "```"
   ]
  },
  {
   "attachments": {},
   "cell_type": "markdown",
   "metadata": {},
   "source": [
    "### Write to File\n",
    "- Output files will be created if they don't exist\n",
    "- if they exist, overwritten or tuncated\n"
   ]
  },
  {
   "attachments": {},
   "cell_type": "markdown",
   "metadata": {},
   "source": [
    "### String Stream\n",
    "- read/write from strings in memory\n",
    "- very useful\n",
    "- include `sstring`\n",
    "  - stringstream\n",
    "  - istringstream\n",
    "  - ostringstream\n",
    "\n"
   ]
  }
 ],
 "metadata": {
  "language_info": {
   "name": "python"
  },
  "orig_nbformat": 4
 },
 "nbformat": 4,
 "nbformat_minor": 2
}
