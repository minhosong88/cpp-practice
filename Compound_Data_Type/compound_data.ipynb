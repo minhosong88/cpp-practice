{
 "cells": [
  {
   "attachments": {},
   "cell_type": "markdown",
   "metadata": {},
   "source": [
    "### Arrays\n",
    "- compound data type or data structure\n",
    "- all elements are of the same type\n",
    "- each element can be accessed directly\n",
    "- Characteristics:\n",
    "  - Fixed size\n",
    "  - elements are all the same type\n",
    "  - contiguously in memory (stored as a chunk)\n",
    "  - index (first: 0, last: size-1)\n",
    "  - No bound check: programmer's responsibility\n",
    "  - iteration is often used to process\n",
    "- Declare: Element_type array_name '['constant number of elements ']'\n",
    "```cpp\n",
    "int test_scores[5];\n",
    "int high_score_per_level[10];\n",
    "```\n",
    "- Initialization\n",
    "```cpp\n",
    "int test_scores[5] {100,99,95,88,87};\n",
    "int high_score_per_level[10] {3, 5}; // 3, 5, remaining elements are set to 0.\n",
    "```"
   ]
  },
  {
   "attachments": {},
   "cell_type": "markdown",
   "metadata": {},
   "source": [
    "### Multi-dimensional Array\n",
    "- Element_type array_name[dim1_size][dim2_size]\n",
    "```cpp\n",
    "const int cols{4};\n",
    "const int rows{3};\n",
    "int movie_rating [rows][cols];\n",
    "```\n",
    "\n"
   ]
  },
  {
   "attachments": {},
   "cell_type": "markdown",
   "metadata": {},
   "source": [
    "### Vectors\n",
    "- not knowing how many elements in the array\n",
    "- options:\n",
    "  - big enough not to exceed the size of the array\n",
    "  - use a `dynamic` arrray such as `vector`.\n",
    "\n",
    "- declare vectors\n",
    "```cpp\n",
    "#include <vector>\n",
    "using namespace std;\n",
    "vector<char> vowels;\n",
    "vecroe<int> test_scores (10);\n",
    "test_scores.at(1) //accessing with 'at' method\n",
    "```\n",
    "- `push_back`(element) method: automatically allocate the required space at the end of the vector\n",
    "- many vector methods provide bounds checking -> exception handling\n"
   ]
  }
 ],
 "metadata": {
  "language_info": {
   "name": "python"
  },
  "orig_nbformat": 4
 },
 "nbformat": 4,
 "nbformat_minor": 2
}
