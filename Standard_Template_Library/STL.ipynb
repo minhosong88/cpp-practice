{
 "cells": [
  {
   "attachments": {},
   "cell_type": "markdown",
   "metadata": {},
   "source": [
    "### STL(Standard Template Library)\n",
    "- Why use STL?\n",
    "  - Assortment of commonly used containers\n",
    "  - known time and size complexity\n",
    "  - Reusability\n",
    "  \n",
    "- Containers\n",
    "  - Array, Vector, Deque, Stack, Set, Map, etc.\n",
    "- Algorithms\n",
    "  - find, max, count, accumulate, sort, etc.\n",
    "- Iterators\n",
    "  - forward, reverse, by value, vy reference, constant, etc.\n",
    "\n",
    "- They are independent from each other.\n",
    "\n",
    "- Example: sort(v.begin(), v.end()), reverse, accumulate"
   ]
  },
  {
   "attachments": {},
   "cell_type": "markdown",
   "metadata": {},
   "source": [
    "### Container\n",
    "- sequence: array, vector, list, forward_list, deque\n",
    "- associative: set, map \n",
    "- container: stack, queue, priority queue.\n",
    "\n",
    "\n",
    "### Iterator\n",
    "- input, output, forward, bidirectional, random access iterators\n",
    "\n",
    "## Algorithms( about 60)\n",
    "- Non-modifying\n",
    "- Modifying"
   ]
  },
  {
   "attachments": {},
   "cell_type": "markdown",
   "metadata": {},
   "source": [
    "### Generic Programming with Macros\n",
    "- Macros **`BEWARE`**\n",
    "- Function templates\n",
    "- Class templates\n",
    "\n",
    "\n",
    "#### Macros (#define)\n",
    " - #define MAX_SIZE 100\n",
    " - #define PI 3.14159\n",
    "  - no data type nor semi-colons\n",
    "  - Use const instead of macros\n",
    "-  #define MAX(a, b) ((a > b) ? a : b)\n",
    "  -  This allows generic programming since the max function works regardless of the type of a and b.\n",
    "  - Best Practice: wrap every argument\n",
    "- Need to be careful\n"
   ]
  },
  {
   "attachments": {},
   "cell_type": "markdown",
   "metadata": {},
   "source": [
    "### Generic Programming with function templates\n",
    "- Very Complex\n",
    "- Error Messages provided by complier is hard to understand \n",
    "- Blue print\n",
    "```cpp\n",
    "template <typlename T> // notification to the compiler\n",
    "T max(T a, T b){\n",
    "  return (a > b) ? a : b;\n",
    "}\n",
    "```\n",
    "- Use generalized type T but need to tell the complier that this is a template function\n",
    "- Will complie but not generate a code \n",
    "- or we can use `class T` instead of `typename T`\n",
    "```cpp\n",
    "cout << max<int>(a, b); // int is used in the place of T \n",
    "```\n",
    "- in this case, max function uses operator >, if you are using `your own class` type, you `must overload the operator`.\n"
   ]
  },
  {
   "attachments": {},
   "cell_type": "markdown",
   "metadata": {},
   "source": [
    "### C++ Class Template\n",
    "- similar to function template\n",
    "- allow plugging-in any data type \n",
    "- can be very complex"
   ]
  },
  {
   "attachments": {},
   "cell_type": "markdown",
   "metadata": {},
   "source": [
    "### STL Array\n",
    "- since C++  11 the STL has std::array (template-based array class) \n",
    "- Use std::array instead of raw arrays whenever possible\n",
    "- When you know exactly the size of the array, you can be more efficient with std::array than using vector "
   ]
  },
  {
   "attachments": {},
   "cell_type": "markdown",
   "metadata": {},
   "source": [
    "### Containers\n",
    "- each container has member functions\n",
    "- each container has an associated header file\n",
    "### Iterators \n",
    "-  work like pointers\n",
    "-  returns the memory location\n",
    "- vec.begin() : location of first element \n",
    "- vec.end(): location of one after the last element\n",
    "- There's also reverse_iterator\n",
    "  - .begin(): location of last element\n",
    "  - .end(): location of one before the first element"
   ]
  },
  {
   "attachments": {},
   "cell_type": "markdown",
   "metadata": {},
   "source": [
    "### Algorithms\n",
    "- include algorith header file\n",
    "- different containers support different algorithms\n",
    "- iterator invalidation: iterators become invalid during process\n"
   ]
  },
  {
   "attachments": {},
   "cell_type": "markdown",
   "metadata": {},
   "source": [
    "### STD::Array\n",
    "- fixed size\n",
    "- direct element access(not the pointer)\n",
    "- Can use iterators"
   ]
  },
  {
   "attachments": {},
   "cell_type": "markdown",
   "metadata": {},
   "source": [
    "### STD::vector\n",
    "- Dynamic size\n",
    "- Constant time: direct element access, insert and delete at the back\n",
    "- Linear time: insertion/Removal of elements(runtime linear to the size of vector)\n",
    "- .emplace() method is efficient and useful"
   ]
  },
  {
   "attachments": {},
   "cell_type": "markdown",
   "metadata": {},
   "source": [
    "### STD::deque\n",
    "- double ended queue\n",
    "- dynamic size\n",
    "- not stored in contiguous memory\n",
    "- rapid insert/delete at the front/back\n",
    "- insertion or removal(linear time)\n",
    "- push_front() available"
   ]
  },
  {
   "attachments": {},
   "cell_type": "markdown",
   "metadata": {},
   "source": [
    "### STD:: List\n",
    "- sequence container\n",
    "- non-contiguous\n",
    "- No direct access to elements\n",
    "- very efficient for inserting and deleting elements once element is found\n",
    "- consider list if many elements are expected to be inserted in the middle of container\n",
    "### Front list\n",
    "- no size method\n",
    "- no back method\n",
    "- no puch back\n",
    "- no pop back\n",
    "- insert, emplace, erase_after method is used"
   ]
  },
  {
   "attachments": {},
   "cell_type": "markdown",
   "metadata": {},
   "source": [
    "### STD::set\n",
    "- Associative container: fast retrieval using a key\n",
    "- balanced binary tree or hashset\n",
    "- ordered by key\n",
    "- no duplicates allowed\n",
    "- no concept of front and back\n",
    "- insert or emplace possible\n",
    "- use operator<  for ordering\n",
    "- returns std::pair<iterator, bool> \n",
    "- `count method` can be used to check whether an element exists in the set or not\n",
    "### multiset\n",
    "- allow duplicate\n",
    "### unorderedset\n",
    "- unordered, elements can't be modified(erase and add required)\n",
    "- no duplicate\n",
    "- no reverse iterator\n",
    "### unordered multiset\n",
    "- unordered, duplicate, no reverse iterator"
   ]
  },
  {
   "attachments": {},
   "cell_type": "markdown",
   "metadata": {},
   "source": [
    "### STD::Map\n",
    "- similar to dictionary\n",
    "- key-value pair\n",
    "- oredered by key\n",
    "- no duplicate key allowed\n"
   ]
  },
  {
   "attachments": {},
   "cell_type": "markdown",
   "metadata": {},
   "source": [
    "### STD:stack (Adapter)\n",
    "- LIFO\n",
    "- Iterator not supported conceptually\n",
    "- push, pop, top, empty, size methods are supported\n",
    "- deque by default\n",
    "### STD:queue (Adapter)\n",
    "- FIFO\n",
    "- Iterator not supported conceptually\n",
    "- pushed at the back pop at the front\n",
    "\n",
    "### STD:priority_queue (Adapter)\n",
    "- insertino and removal in order from the front of the container\n",
    "- sorted internally as a vector by default\n",
    "- inserted in priority order\n",
    "- No iterator supported\n",
    "- largest element will always be at the front\n",
    "- largest element will be always popped first.\n"
   ]
  }
 ],
 "metadata": {
  "language_info": {
   "name": "python"
  },
  "orig_nbformat": 4
 },
 "nbformat": 4,
 "nbformat_minor": 2
}
