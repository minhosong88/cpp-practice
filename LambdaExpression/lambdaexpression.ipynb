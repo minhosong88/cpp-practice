{
 "cells": [
  {
   "attachments": {},
   "cell_type": "markdown",
   "metadata": {},
   "source": [
    "### Lambda Expression\n",
    "- stateless lambda expression\n",
    "- stateful lambda expression\n",
    "- functors (function object)\n",
    "- closure concept\n"
   ]
  },
  {
   "attachments": {},
   "cell_type": "markdown",
   "metadata": {},
   "source": [
    " ### Structure\n",
    " ```plaintext\n",
    " [] () -> return_type specifiers {};\n",
    " \n",
    " ```\n",
    " - [] : capture list = defines the start of the lambda\n",
    " - () : parameter list\n",
    " - return type/specifiers can be optional and ommited\n",
    "\n",
    " - you can assign the lambda expression to a variable and use it like a function\n",
    "\n",
    "\n",
    "### Stateless Expression\n",
    "- No Capture list\n",
    "```cpp\n",
    "[] () {std::cout << \"Hi\";} (); // Hi\n",
    "int x{10};\n",
    "[] (int x) {std::cout << x;}(100) // display 100\n",
    "// Since this is stateless, lambda expression doesn't know about x declared above.\n",
    "```\n",
    "### Stateful Expression\n",
    "- Capture List is not empty\n",
    " ```plaintext\n",
    " [captured_variables] () -> return_type specifiers {};\n",
    " \n",
    " ```\n",
    "- Captured variables are passed as const by default\n",
    "- use `mutable` keyword to modify the captured value\n",
    "```cpp\n",
    "[=, &x]// default capture by value but x by reference \n",
    "[&, y] // default capture by reference but y by value\n",
    "[this, z] // default capture object buy z by value\n",
    "```\n",
    "\n"
   ]
  }
 ],
 "metadata": {
  "language_info": {
   "name": "python"
  },
  "orig_nbformat": 4
 },
 "nbformat": 4,
 "nbformat_minor": 2
}
