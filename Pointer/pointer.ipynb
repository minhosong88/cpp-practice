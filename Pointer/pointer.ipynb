{
 "cells": [
  {
   "attachments": {},
   "cell_type": "markdown",
   "metadata": {},
   "source": [
    "### Pointer\n",
    "- a variable whose value is an address\n",
    "- the address can be for another variable or a function\n",
    "- why we use pointers?\n",
    "  - not always access the function or variable(inside functions to access variable or functions defined outside them)\n",
    "  - very useful in arrays\n",
    "  - polymorphism"
   ]
  },
  {
   "attachments": {},
   "cell_type": "markdown",
   "metadata": {},
   "source": [
    "#### Declare\n",
    "- type *name;\n",
    "- initialize pointer with `nullptr`\n",
    "- always initialize pointers"
   ]
  },
  {
   "attachments": {},
   "cell_type": "markdown",
   "metadata": {},
   "source": [
    "#### Dereference a pointer\n",
    "- access the data that a pointer is pointing to\n",
    "- use * at the pointer variable\n",
    "```cpp\n",
    "int score {10};\n",
    "int *score_ptr{&score};\n",
    "\n",
    "cout << *score_ptr << end // value of score // 10\n",
    "\n",
    "*score_ptr = 100\n",
    "cout << score << endl; // modifying value possible //100\n",
    "```\n"
   ]
  },
  {
   "attachments": {},
   "cell_type": "markdown",
   "metadata": {},
   "source": [
    "### Dynamic memory allocation\n",
    "- allocating storage from the heap at runtime\n",
    "- use pointers to access newly allocated heap storage\n",
    "- `new` keyword to allocate storage \n",
    "- `delete` keyword to deallocate storage\n"
   ]
  },
  {
   "attachments": {},
   "cell_type": "markdown",
   "metadata": {},
   "source": [
    "### arrays and pointers\n",
    "- the value of array name: the memory location of the first element in the array\n",
    "- this is the same as the pointer value"
   ]
  },
  {
   "attachments": {},
   "cell_type": "markdown",
   "metadata": {},
   "source": [
    "### Pointer Arithmetic\n",
    "- only with raw arrays\n",
    "- increment (++) // next array element\n",
    "- decrement (--)  // previous array element\n",
    "- '+' : forward n*sizeof(type)\n",
    "- '-' : backward n*sizeof(type)"
   ]
  },
  {
   "attachments": {},
   "cell_type": "markdown",
   "metadata": {},
   "source": [
    "### Const and Pointer\n",
    "- pointer to constant\n",
    "- constant pointer\n",
    "- constant pointer to constant\n",
    "\n",
    "---\n",
    "```cpp\n",
    "const int *score_ptrt{&high_score};\n",
    "// the value of the pointing location is constant // value x change, pointing location can change\n",
    "\n",
    "int *const score_ptr{&high_score};\n",
    "// pointer itself is constant:cannot change where it points to\n",
    "\n",
    "consy int *const score_ptr{&high_score};\n",
    "// cannot change both\n",
    "```"
   ]
  },
  {
   "attachments": {},
   "cell_type": "markdown",
   "metadata": {},
   "source": [
    "### Pitfalls\n",
    "- uninitialized pointers\n",
    "  - pointer points to garbage without initialization\n",
    "- dangling pointer\n",
    "  - pointer is pointing to released memory\n",
    "- Not checking if new failed\n",
    "- memory leak\n",
    "  - forgetting to release allocated memory with delete\n",
    "  - if lost, no way to get to that storage again\n",
    "  "
   ]
  },
  {
   "attachments": {},
   "cell_type": "markdown",
   "metadata": {},
   "source": [
    "### References\n",
    "- alias for a variable\n",
    "- cannot be null\n",
    "- must be initialized to a variable\n",
    "- useful as function parameters\n",
    "```cpp\n",
    "for( auto str: stooges)\n",
    "  str = \"Funny\";\n",
    "```\n",
    "- str here is the reference to an element in the vector stooge\n"
   ]
  },
  {
   "attachments": {},
   "cell_type": "markdown",
   "metadata": {},
   "source": [
    "### L-value, R-value\n",
    "- values that have names & addressable &modifiable: L value\n",
    "- not L values : R values\n",
    "- temporary value / literals/\n",
    "\n",
    "---\n",
    "```cpp\n",
    "int x {100};\n",
    "int &ref1 = x; // ref1 is reference to l-value\n",
    "ref1 = 100;\n",
    "int &ref2 = 100; // Error 100 is r-value, not referencing.\n",
    "```\n",
    "\n",
    "\n"
   ]
  }
 ],
 "metadata": {
  "language_info": {
   "name": "python"
  },
  "orig_nbformat": 4
 },
 "nbformat": 4,
 "nbformat_minor": 2
}
